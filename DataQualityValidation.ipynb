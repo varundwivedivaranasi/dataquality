{
 "cells": [
  {
   "cell_type": "code",
   "execution_count": 0,
   "metadata": {
    "application/vnd.databricks.v1+cell": {
     "cellMetadata": {
      "byteLimit": 2048000,
      "rowLimit": 10000
     },
     "inputWidgets": {},
     "nuid": "ac73c445-4bfe-4cd9-a203-8de0d0186630",
     "showTitle": false,
     "tableResultSettingsMap": {},
     "title": ""
    }
   },
   "outputs": [],
   "source": [
    "%run /Workspace/Users/varundwivedivaranasi@gmail.com/dataquality/Shared/validation_utils/data_quality_validator"
   ]
  },
  {
   "cell_type": "code",
   "execution_count": 0,
   "metadata": {
    "application/vnd.databricks.v1+cell": {
     "cellMetadata": {
      "byteLimit": 2048000,
      "rowLimit": 10000
     },
     "inputWidgets": {},
     "nuid": "d9b01c7c-ea3d-4f38-8247-72a17fe9919d",
     "showTitle": false,
     "tableResultSettingsMap": {},
     "title": ""
    }
   },
   "outputs": [],
   "source": [
    "from pyspark.sql.functions import *\n",
    "from pyspark.sql.types import *\n",
    "from typing import List, Dict\n",
    "import json\n",
    "import os\n",
    "import datetime\n",
    "import uuid"
   ]
  },
  {
   "cell_type": "code",
   "execution_count": 0,
   "metadata": {
    "application/vnd.databricks.v1+cell": {
     "cellMetadata": {
      "byteLimit": 2048000,
      "rowLimit": 10000
     },
     "inputWidgets": {},
     "nuid": "b2d5491a-1725-4057-b3ae-c32bbdaeabf1",
     "showTitle": false,
     "tableResultSettingsMap": {},
     "title": ""
    }
   },
   "outputs": [],
   "source": [
    "volume = \"/Volumes/workspace/myschema/myvol\"\n",
    "input_path = f\"{volume}/source/resturant_json_data.json\"\n",
    "reject_path = f\"{volume}/reject\"\n",
    "rules_path = f\"{volume}/validation_rules/quality_rules.json\"\n",
    "batch_id = str(uuid.uuid4())"
   ]
  },
  {
   "cell_type": "code",
   "execution_count": 0,
   "metadata": {
    "application/vnd.databricks.v1+cell": {
     "cellMetadata": {
      "byteLimit": 2048000,
      "rowLimit": 10000
     },
     "inputWidgets": {},
     "nuid": "d10b0ed5-9495-4b49-87d0-acc11d42a4f8",
     "showTitle": false,
     "tableResultSettingsMap": {},
     "title": ""
    }
   },
   "outputs": [],
   "source": [
    "df_source = spark.read.option(\"multiline\", \"true\").json(input_path)"
   ]
  },
  {
   "cell_type": "code",
   "execution_count": 0,
   "metadata": {
    "application/vnd.databricks.v1+cell": {
     "cellMetadata": {
      "byteLimit": 2048000,
      "rowLimit": 10000
     },
     "inputWidgets": {},
     "nuid": "98da3af5-63f5-4e42-a787-0906c5274149",
     "showTitle": false,
     "tableResultSettingsMap": {},
     "title": ""
    }
   },
   "outputs": [],
   "source": [
    "#read validation rule file \n",
    "with open(rules_path, \"r\") as f:\n",
    "    quality_rules = json.load(f)"
   ]
  },
  {
   "cell_type": "code",
   "execution_count": 0,
   "metadata": {
    "application/vnd.databricks.v1+cell": {
     "cellMetadata": {
      "byteLimit": 2048000,
      "rowLimit": 10000
     },
     "inputWidgets": {},
     "nuid": "4b85778d-0b50-4835-94ae-af3bfc3ca61a",
     "showTitle": false,
     "tableResultSettingsMap": {},
     "title": ""
    }
   },
   "outputs": [],
   "source": [
    "df = df_source.withColumn(\"restaurants\",explode(\"restaurants\"))\\\n",
    "    .withColumn(\"id\",col(\"restaurants.restaurant.id\"))\\\n",
    "        .withColumn(\"restaurant name\",col(\"restaurants.restaurant.name\"))\\\n",
    "            .withColumn(\"cuisines\",col(\"restaurants.restaurant.cuisines\"))\\\n",
    "                .withColumn(\"ratings\",col(\"restaurants.restaurant.user_rating.rating_text\"))\\\n",
    "                    .withColumn(\"city\",col(\"restaurants.restaurant.location.city\"))\\\n",
    "                        .withColumn(\"establishment_types\",explode_outer(col(\"restaurants.restaurant.establishment_types\")))\\\n",
    "                            .withColumn(\"deeplink\",col(\"restaurants.restaurant.deeplink\"))\\\n",
    "                                .withColumn(\"rating\",when(col(\"ratings\")==\"Excellent\",lit(4)).when(col(\"ratings\")==\"Very Good\",lit(3))\\\n",
    "                                    .when(col(\"ratings\")==\"Good\",lit(2)).when(col(\"ratings\")==\"Average\",lit(1)).otherwise(lit(-1)))\\\n",
    "                                    .withColumn(\"rating\",col(\"rating\").cast(\"int\"))\\\n",
    "                                        .drop(\"code\",\"message\",\"results_found\",\"results_shown\",\"results_start\",\"status\",\"restaurants\")"
   ]
  },
  {
   "cell_type": "code",
   "execution_count": 0,
   "metadata": {
    "application/vnd.databricks.v1+cell": {
     "cellMetadata": {
      "byteLimit": 2048000,
      "rowLimit": 10000
     },
     "inputWidgets": {},
     "nuid": "ba0b0553-7026-4b6c-a5c6-48b39801c6d8",
     "showTitle": false,
     "tableResultSettingsMap": {},
     "title": ""
    }
   },
   "outputs": [],
   "source": [
    "validator = DataQualityValidator(df, notebook_name=\"Restaurant_Metadata_Validation\")\n",
    "\n",
    "validator.run_checks(quality_rules)\n",
    "\n",
    "summary_df = validator.get_summary_df()\n",
    "\n",
    "validator.log_errors_to_blob(reject_path)"
   ]
  },
  {
   "cell_type": "code",
   "execution_count": 0,
   "metadata": {
    "application/vnd.databricks.v1+cell": {
     "cellMetadata": {
      "byteLimit": 2048000,
      "rowLimit": 10000
     },
     "inputWidgets": {},
     "nuid": "add54dc9-2da9-4b3c-b89b-5e70e5d8f9da",
     "showTitle": false,
     "tableResultSettingsMap": {},
     "title": ""
    }
   },
   "outputs": [],
   "source": [
    "summary_df = summary_df.withColumn(\"batch_id\", lit(batch_id))\n",
    "summary_df.write.format(\"delta\").mode(\"append\").saveAsTable(\"workspace.myschema.validation_summary\")"
   ]
  },
  {
   "cell_type": "code",
   "execution_count": 0,
   "metadata": {
    "application/vnd.databricks.v1+cell": {
     "cellMetadata": {
      "byteLimit": 2048000,
      "implicitDf": true,
      "rowLimit": 10000
     },
     "inputWidgets": {},
     "nuid": "4a7ae201-08d9-4563-81b6-2e2cc94570c2",
     "showTitle": false,
     "tableResultSettingsMap": {
      "0": {
       "dataGridStateBlob": "{\"version\":1,\"tableState\":{\"columnPinning\":{\"left\":[\"#row_number#\"],\"right\":[]},\"columnSizing\":{},\"columnVisibility\":{}},\"settings\":{\"columns\":{}},\"syncTimestamp\":1754221064916}",
       "filterBlob": null,
       "queryPlanFiltersBlob": null,
       "tableResultIndex": 0
      }
     },
     "title": ""
    }
   },
   "outputs": [],
   "source": [
    "%sql\n",
    "select * from workspace.myschema.validation_summary;"
   ]
  }
 ],
 "metadata": {
  "application/vnd.databricks.v1+notebook": {
   "computePreferences": null,
   "dashboards": [],
   "environmentMetadata": {
    "base_environment": "",
    "environment_version": "2"
   },
   "inputWidgetPreferences": null,
   "language": "python",
   "notebookMetadata": {
    "mostRecentlyExecutedCommandWithImplicitDF": {
     "commandId": 8954950454569077,
     "dataframes": [
      "_sqldf"
     ]
    },
    "pythonIndentUnit": 4
   },
   "notebookName": "DataQualityValidation",
   "widgets": {}
  },
  "language_info": {
   "name": "python"
  }
 },
 "nbformat": 4,
 "nbformat_minor": 0
}
