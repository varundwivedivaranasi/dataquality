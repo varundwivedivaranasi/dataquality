{
 "cells": [
  {
   "cell_type": "code",
   "execution_count": 0,
   "metadata": {
    "application/vnd.databricks.v1+cell": {
     "cellMetadata": {
      "byteLimit": 2048000,
      "rowLimit": 10000
     },
     "inputWidgets": {},
     "nuid": "11e81b51-5675-4cb1-b1a0-8fad5bc2db29",
     "showTitle": false,
     "tableResultSettingsMap": {},
     "title": ""
    }
   },
   "outputs": [],
   "source": [
    "from pyspark.sql import DataFrame\n",
    "from pyspark.sql.functions import col, lit, regexp_replace, when, concat\n",
    "\n",
    "class DataMasker:\n",
    "    \"\"\"\n",
    "    Utility class for masking sensitive fields in a Spark DataFrame.\n",
    "    \"\"\"\n",
    "\n",
    "    def __init__(self, fields_to_mask: list):\n",
    "        \"\"\"\n",
    "        Initialize with a list of fields to mask.\n",
    "\n",
    "        Parameters:\n",
    "        - fields_to_mask: List of column names to apply masking rules\n",
    "        \"\"\"\n",
    "        self.fields_to_mask = fields_to_mask\n",
    "\n",
    "    def mask(self, df: DataFrame) -> DataFrame:\n",
    "        \"\"\"\n",
    "        Apply masking rules to the specified fields in the DataFrame.\n",
    "\n",
    "        Supported Fields:\n",
    "        - 'ssn': Masks first 5 digits (***-**1234)\n",
    "        - 'card_number': Masks all but last 4 digits (**** **** **** 1234)\n",
    "\n",
    "        Returns:\n",
    "        - Masked Spark DataFrame\n",
    "        \"\"\"\n",
    "        for field in self.fields_to_mask:\n",
    "            if field not in df.columns:\n",
    "                continue  # Skip if field doesn't exist\n",
    "\n",
    "            if field == \"ssn\":\n",
    "                df = df.withColumn(\n",
    "                    field,\n",
    "                    when(col(field).isNotNull(),\n",
    "                         regexp_replace(col(field), r\"\\d{3}-\\d{2}\", \"***-**\"))\n",
    "                    .otherwise(lit(None))\n",
    "                )\n",
    "\n",
    "            elif field == \"card_number\":\n",
    "                df = df.withColumn(\n",
    "                    field,\n",
    "                    when(col(field).isNotNull(),\n",
    "                         concat(lit(\"**** **** **** \"), col(field).substr(-4, 4)))\n",
    "                    .otherwise(lit(None))\n",
    "                )\n",
    "\n",
    "            # Add more masking rules here as needed\n",
    "\n",
    "        return df"
   ]
  }
 ],
 "metadata": {
  "application/vnd.databricks.v1+notebook": {
   "computePreferences": null,
   "dashboards": [],
   "environmentMetadata": {
    "base_environment": "",
    "environment_version": "2"
   },
   "inputWidgetPreferences": null,
   "language": "python",
   "notebookMetadata": {
    "pythonIndentUnit": 4
   },
   "notebookName": "data_masker",
   "widgets": {}
  },
  "language_info": {
   "name": "python"
  }
 },
 "nbformat": 4,
 "nbformat_minor": 0
}
